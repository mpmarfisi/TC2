{
 "cells": [
  {
   "cell_type": "markdown",
   "id": "b61a6b95-2951-4c7e-816a-b31b076d1239",
   "metadata": {},
   "source": [
    "<img src=\"logo_UTN.svg\" align=\"right\" width=\"150\" /> \n",
    "\n",
    "## Teoría de Circuitos II\n",
    "\n",
    "### Tarea Semanal 7\n",
    "\n",
    "#### Por Matías Marfisi\n"
   ]
  },
  {
   "cell_type": "markdown",
   "id": "765f3b32-7ba6-4cf3-9e46-95daaa483e1e",
   "metadata": {
    "tags": []
   },
   "source": [
    "# Consigna"
   ]
  },
  {
   "cell_type": "markdown",
   "id": "3c5dc02c-c6da-49c1-8127-613a22b9b1df",
   "metadata": {},
   "source": [
    "![Consigna](Consigna1.png \"Consigna\")"
   ]
  },
  {
   "cell_type": "markdown",
   "id": "b83c3756-a761-44c2-b2f3-6a458da24d2c",
   "metadata": {},
   "source": [
    "![Consigna](Consigna2.png \"Consigna\")"
   ]
  },
  {
   "cell_type": "markdown",
   "id": "c00abc6a-a4c3-48c2-8087-38eae10dce60",
   "metadata": {
    "tags": []
   },
   "source": [
    "## Desarrollo"
   ]
  },
  {
   "cell_type": "markdown",
   "id": "b852343a-ab7f-4819-b526-303e6a98f5de",
   "metadata": {},
   "source": [
    "![1](Desarrollo/1.jpg \"1\")"
   ]
  },
  {
   "cell_type": "markdown",
   "id": "eaf52e97-8e29-4d8e-8002-be20337e78ca",
   "metadata": {},
   "source": [
    "![2](Desarrollo/2.jpg \"2\")"
   ]
  },
  {
   "cell_type": "markdown",
   "id": "7a20b579-dc37-4fd8-8758-2fe10f08d7f0",
   "metadata": {},
   "source": [
    "![3](Desarrollo/3.jpg \"3\")"
   ]
  },
  {
   "cell_type": "markdown",
   "id": "1a2143de-c712-44f7-a2fc-6a67b2cb9572",
   "metadata": {},
   "source": [
    "![4](Desarrollo/4.jpg \"4\")"
   ]
  },
  {
   "cell_type": "markdown",
   "id": "b0c488ec-f787-4cfc-b7bf-01459e42479b",
   "metadata": {},
   "source": [
    "![5](Desarrollo/5.jpg \"5\")"
   ]
  },
  {
   "cell_type": "markdown",
   "id": "1f3f0ada-51db-4112-9c05-766afa689581",
   "metadata": {},
   "source": [
    "![6](Desarrollo/6.jpg \"6\")"
   ]
  }
 ],
 "metadata": {
  "kernelspec": {
   "display_name": "Python 3 (ipykernel)",
   "language": "python",
   "name": "python3"
  },
  "language_info": {
   "codemirror_mode": {
    "name": "ipython",
    "version": 3
   },
   "file_extension": ".py",
   "mimetype": "text/x-python",
   "name": "python",
   "nbconvert_exporter": "python",
   "pygments_lexer": "ipython3",
   "version": "3.9.7"
  }
 },
 "nbformat": 4,
 "nbformat_minor": 5
}
