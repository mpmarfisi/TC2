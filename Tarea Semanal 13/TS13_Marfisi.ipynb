{
 "cells": [
  {
   "cell_type": "markdown",
   "id": "b61a6b95-2951-4c7e-816a-b31b076d1239",
   "metadata": {},
   "source": [
    "<img src=\"logo_UTN.svg\" align=\"right\" width=\"150\" /> \n",
    "\n",
    "## Teoría de Circuitos II\n",
    "\n",
    "### Tarea Semanal 13\n",
    "\n",
    "#### Por Matías Marfisi\n"
   ]
  },
  {
   "cell_type": "markdown",
   "id": "765f3b32-7ba6-4cf3-9e46-95daaa483e1e",
   "metadata": {
    "tags": []
   },
   "source": [
    "# Ejercicio 1"
   ]
  },
  {
   "cell_type": "markdown",
   "id": "898db190-f376-42a1-8085-c412a0a3a335",
   "metadata": {
    "tags": []
   },
   "source": [
    "## Desarrollo"
   ]
  },
  {
   "cell_type": "markdown",
   "id": "6eb65922-8c2e-4f43-b28a-c27c61f89f0c",
   "metadata": {},
   "source": [
    "![Consigna](Consigna1.png \"Consigna\")"
   ]
  },
  {
   "cell_type": "markdown",
   "id": "9f8ef561-a5c5-44ed-bc70-1afa73a00d5c",
   "metadata": {},
   "source": [
    "![3](Desarrollo/3.jpeg \"3\")"
   ]
  },
  {
   "cell_type": "markdown",
   "id": "9345bdff-99f5-4c46-8b97-97e8c30f0e0a",
   "metadata": {
    "tags": []
   },
   "source": [
    "## Simulacion"
   ]
  },
  {
   "cell_type": "code",
   "execution_count": 10,
   "id": "c3c220a8-a41c-4786-bb29-30eda7fae9f7",
   "metadata": {},
   "outputs": [],
   "source": [
    "# Módulos para Jupyter\n",
    "\n",
    "import numpy as np\n",
    "import matplotlib as mpl\n",
    "from matplotlib import pyplot as plt\n",
    "#%%  Inicialización de librerías\n",
    "# Setup inline graphics: Esto lo hacemos para que el tamaño de la salida, \n",
    "# sea un poco más adecuada al tamaño del documento\n",
    "mpl.rcParams['figure.figsize'] = (25,15)\n",
    "\n",
    "#%% Esto tiene que ver con cuestiones de presentación de los gráficos,\n",
    "# NO ES IMPORTANTE\n",
    "fig_sz_x = 14\n",
    "fig_sz_y = 13\n",
    "fig_dpi = 80 # dpi\n",
    "\n",
    "#fig_font_family = 'Ubuntu'\n",
    "fig_font_size = 16\n",
    "\n",
    "plt.rcParams.update({'font.size':fig_font_size})\n",
    "#plt.rcParams.update({'font.family':fig_font_family})\n",
    "\n",
    "# módulo de SciPy\n",
    "from scipy import signal as sig\n",
    "\n",
    "import sympy as sp\n",
    "import splane as tc2\n",
    "from schemdraw import Drawing\n",
    "from schemdraw.elements import  Resistor, Capacitor, Inductor\n",
    "import numpy as np\n",
    "import ltspice"
   ]
  },
  {
   "cell_type": "markdown",
   "id": "cd61cfde-850e-4314-b5eb-48a5c9e63aca",
   "metadata": {
    "tags": []
   },
   "source": [
    "# Ejercicio 2"
   ]
  },
  {
   "cell_type": "markdown",
   "id": "df6cc810-60f1-4b53-87f7-62a348bebfba",
   "metadata": {
    "tags": []
   },
   "source": [
    "## Desarrollo"
   ]
  },
  {
   "cell_type": "markdown",
   "id": "2ac6d48e-cf37-43bc-a333-a4746b1969e0",
   "metadata": {},
   "source": [
    "![Consigna](Consigna2.png \"Consigna\")"
   ]
  },
  {
   "cell_type": "markdown",
   "id": "e561d40b-3eeb-485b-9ca0-ddbcc2bc3156",
   "metadata": {},
   "source": [
    "![1](Desarrollo/1.jpeg \"1\")"
   ]
  },
  {
   "cell_type": "markdown",
   "id": "f625098a-e3aa-4714-a929-a1843038181b",
   "metadata": {},
   "source": [
    "![2](Desarrollo/2.jpeg \"2\")"
   ]
  },
  {
   "cell_type": "markdown",
   "id": "e8c479c6-35c5-410b-aecd-8f44732399fb",
   "metadata": {
    "tags": []
   },
   "source": [
    "## Simulacion"
   ]
  }
 ],
 "metadata": {
  "kernelspec": {
   "display_name": "Python 3 (ipykernel)",
   "language": "python",
   "name": "python3"
  },
  "language_info": {
   "codemirror_mode": {
    "name": "ipython",
    "version": 3
   },
   "file_extension": ".py",
   "mimetype": "text/x-python",
   "name": "python",
   "nbconvert_exporter": "python",
   "pygments_lexer": "ipython3",
   "version": "3.9.7"
  }
 },
 "nbformat": 4,
 "nbformat_minor": 5
}
