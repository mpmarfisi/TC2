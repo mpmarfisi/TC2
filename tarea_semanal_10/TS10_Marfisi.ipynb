{
 "cells": [
  {
   "cell_type": "markdown",
   "id": "b61a6b95-2951-4c7e-816a-b31b076d1239",
   "metadata": {},
   "source": [
    "<img src=\"logo_UTN.svg\" align=\"right\" width=\"150\" /> \n",
    "\n",
    "## Teoría de Circuitos II\n",
    "\n",
    "### Tarea Semanal 10\n",
    "\n",
    "#### Por Matías Marfisi\n"
   ]
  },
  {
   "cell_type": "markdown",
   "id": "765f3b32-7ba6-4cf3-9e46-95daaa483e1e",
   "metadata": {
    "tags": []
   },
   "source": [
    "# Ejercicio 1"
   ]
  },
  {
   "cell_type": "markdown",
   "id": "6eb65922-8c2e-4f43-b28a-c27c61f89f0c",
   "metadata": {},
   "source": [
    "![Consigna](Consigna1.png \"Consigna\")"
   ]
  },
  {
   "cell_type": "markdown",
   "id": "f57caf40-208e-43ce-ae82-05a0784292be",
   "metadata": {},
   "source": [
    "![1](Desarrollo/1.jpeg \"1\")"
   ]
  },
  {
   "cell_type": "markdown",
   "id": "46117646-ba14-41b7-9f55-55f8d73d74b6",
   "metadata": {},
   "source": [
    "![2](Desarrollo/2.jpeg \"2\")"
   ]
  },
  {
   "cell_type": "markdown",
   "id": "2d78bcf7-13a8-42bf-ab55-bf1bcd42905b",
   "metadata": {
    "tags": []
   },
   "source": [
    "# Ejercicio 2"
   ]
  },
  {
   "cell_type": "markdown",
   "id": "6267cbe2-2480-4c29-8dc5-e66252261809",
   "metadata": {},
   "source": [
    "![Consigna](Consigna2.png \"Consigna\")"
   ]
  },
  {
   "cell_type": "markdown",
   "id": "a677e23c-4fb6-4a2d-b8ce-309930c3474b",
   "metadata": {},
   "source": [
    "![3](Desarrollo/3_1.jpeg \"3\")"
   ]
  },
  {
   "cell_type": "markdown",
   "id": "50f47226-c08b-40eb-a558-6f29ede76a3d",
   "metadata": {},
   "source": [
    "![3](Desarrollo/3_2.jpeg \"3\")"
   ]
  },
  {
   "cell_type": "markdown",
   "id": "e9e1ee71-cca3-49c9-a59b-97fa4b699842",
   "metadata": {},
   "source": [
    "![4](Desarrollo/4.jpeg \"4\")"
   ]
  },
  {
   "cell_type": "markdown",
   "id": "17225744-cf6e-4af6-adee-cc45d5debeb2",
   "metadata": {},
   "source": [
    "![5](Desarrollo/5.jpeg \"5\")"
   ]
  }
 ],
 "metadata": {
  "kernelspec": {
   "display_name": "Python 3 (ipykernel)",
   "language": "python",
   "name": "python3"
  },
  "language_info": {
   "codemirror_mode": {
    "name": "ipython",
    "version": 3
   },
   "file_extension": ".py",
   "mimetype": "text/x-python",
   "name": "python",
   "nbconvert_exporter": "python",
   "pygments_lexer": "ipython3",
   "version": "3.9.7"
  }
 },
 "nbformat": 4,
 "nbformat_minor": 5
}
